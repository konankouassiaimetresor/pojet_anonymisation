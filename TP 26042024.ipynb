{
 "cells": [
  {
   "cell_type": "markdown",
   "metadata": {},
   "source": [
    "## Cryptage de message\n",
    "---"
   ]
  },
  {
   "cell_type": "code",
   "execution_count": null,
   "metadata": {},
   "outputs": [],
   "source": [
    "pip install cryptocode"
   ]
  },
  {
   "cell_type": "code",
   "execution_count": 8,
   "metadata": {},
   "outputs": [
    {
     "name": "stdout",
     "output_type": "stream",
     "text": [
      "Requirement already satisfied: faker in c:\\users\\asus\\appdata\\local\\programs\\python\\python311\\lib\\site-packages (24.9.0)\n",
      "Requirement already satisfied: python-dateutil>=2.4 in c:\\users\\asus\\appdata\\roaming\\python\\python311\\site-packages (from faker) (2.8.2)\n",
      "Requirement already satisfied: six>=1.5 in c:\\users\\asus\\appdata\\roaming\\python\\python311\\site-packages (from python-dateutil>=2.4->faker) (1.16.0)\n",
      "Note: you may need to restart the kernel to use updated packages.\n"
     ]
    },
    {
     "name": "stderr",
     "output_type": "stream",
     "text": [
      "\n",
      "[notice] A new release of pip is available: 23.3.2 -> 24.0\n",
      "[notice] To update, run: python.exe -m pip install --upgrade pip\n"
     ]
    }
   ],
   "source": [
    "pip install faker"
   ]
  },
  {
   "cell_type": "code",
   "execution_count": 2,
   "metadata": {},
   "outputs": [],
   "source": [
    "import cryptocode"
   ]
  },
  {
   "cell_type": "code",
   "execution_count": 3,
   "metadata": {},
   "outputs": [
    {
     "name": "stdout",
     "output_type": "stream",
     "text": [
      "o/TqftYshg==*lCa7Xstxo9v+7s1/VQU48w==*Rjaz3UThwhWrKLHbVwDsNQ==*nBJn0sUIJmirVbfbMfxKcg== \n",
      "\n",
      "CH-1234\n"
     ]
    }
   ],
   "source": [
    "str_encoded = cryptocode.encrypt(\"CH-1234\", \"wow\")\n",
    "\n",
    "str_decoded = cryptocode.decrypt(str_encoded, \"wow\")\n",
    "\n",
    "print(str_encoded, \"\\n\")\n",
    "print(str_decoded)"
   ]
  },
  {
   "cell_type": "markdown",
   "metadata": {},
   "source": [
    "#### CREATE A LIST OF FAKE CLIENTS"
   ]
  },
  {
   "cell_type": "code",
   "execution_count": 1,
   "metadata": {},
   "outputs": [
    {
     "name": "stdout",
     "output_type": "stream",
     "text": [
      "['__annotations__', '__class__', '__deepcopy__', '__delattr__', '__dict__', '__dir__', '__doc__', '__eq__', '__format__', '__ge__', '__getattr__', '__getattribute__', '__getitem__', '__getstate__', '__gt__', '__hash__', '__init__', '__init_subclass__', '__le__', '__lt__', '__module__', '__ne__', '__new__', '__reduce__', '__reduce_ex__', '__repr__', '__setattr__', '__setstate__', '__sizeof__', '__str__', '__subclasshook__', '__weakref__', '_map_provider_method', '_select_factory', '_select_factory_choice', '_select_factory_distribution', 'cache_pattern', 'factories', 'generator_attrs', 'items', 'locales', 'optional', 'random', 'seed', 'seed_instance', 'seed_locale', 'unique', 'weights']\n"
     ]
    }
   ],
   "source": [
    "from faker import Faker\n",
    "faker = Faker(locale = \"fr_FR\")\n",
    "fake = Faker()\n",
    "\n",
    "print(dir(Faker))"
   ]
  },
  {
   "cell_type": "code",
   "execution_count": 4,
   "metadata": {},
   "outputs": [
    {
     "data": {
      "text/plain": [
       "'Agent every development say.'"
      ]
     },
     "execution_count": 4,
     "metadata": {},
     "output_type": "execute_result"
    }
   ],
   "source": [
    "Faker.seed(42)\n",
    "fake.sentence()"
   ]
  },
  {
   "cell_type": "code",
   "execution_count": 5,
   "metadata": {},
   "outputs": [],
   "source": [
    "Faker.seed(1)\n",
    "name = [faker.name() for i in range(10)]"
   ]
  },
  {
   "cell_type": "code",
   "execution_count": 6,
   "metadata": {},
   "outputs": [
    {
     "data": {
      "text/plain": [
       "['Roland Salmon',\n",
       " 'Gilbert Lemaire',\n",
       " 'Stéphanie Georges',\n",
       " 'Françoise Gauthier',\n",
       " 'Alix Perrier',\n",
       " 'Adélaïde Grenier',\n",
       " 'Juliette Mace',\n",
       " 'Théodore Henry-Prévost',\n",
       " 'Alain Michel',\n",
       " 'Adrienne Weber-Torres']"
      ]
     },
     "execution_count": 6,
     "metadata": {},
     "output_type": "execute_result"
    }
   ],
   "source": [
    "name"
   ]
  },
  {
   "cell_type": "code",
   "execution_count": 7,
   "metadata": {},
   "outputs": [],
   "source": [
    "import pandas as pd"
   ]
  },
  {
   "cell_type": "code",
   "execution_count": 8,
   "metadata": {},
   "outputs": [
    {
     "ename": "ValueError",
     "evalue": "Length of values (10) does not match length of index (3)",
     "output_type": "error",
     "traceback": [
      "\u001b[1;31m---------------------------------------------------------------------------\u001b[0m",
      "\u001b[1;31mValueError\u001b[0m                                Traceback (most recent call last)",
      "File \u001b[1;32m<timed exec>:16\u001b[0m\n",
      "File \u001b[1;32mc:\\Users\\ASUS\\AppData\\Local\\Programs\\Python\\Python311\\Lib\\site-packages\\pandas\\core\\frame.py:4299\u001b[0m, in \u001b[0;36mDataFrame.__setitem__\u001b[1;34m(self, key, value)\u001b[0m\n\u001b[0;32m   4296\u001b[0m     \u001b[38;5;28mself\u001b[39m\u001b[38;5;241m.\u001b[39m_setitem_array([key], value)\n\u001b[0;32m   4297\u001b[0m \u001b[38;5;28;01melse\u001b[39;00m:\n\u001b[0;32m   4298\u001b[0m     \u001b[38;5;66;03m# set column\u001b[39;00m\n\u001b[1;32m-> 4299\u001b[0m     \u001b[38;5;28;43mself\u001b[39;49m\u001b[38;5;241;43m.\u001b[39;49m\u001b[43m_set_item\u001b[49m\u001b[43m(\u001b[49m\u001b[43mkey\u001b[49m\u001b[43m,\u001b[49m\u001b[43m \u001b[49m\u001b[43mvalue\u001b[49m\u001b[43m)\u001b[49m\n",
      "File \u001b[1;32mc:\\Users\\ASUS\\AppData\\Local\\Programs\\Python\\Python311\\Lib\\site-packages\\pandas\\core\\frame.py:4512\u001b[0m, in \u001b[0;36mDataFrame._set_item\u001b[1;34m(self, key, value)\u001b[0m\n\u001b[0;32m   4502\u001b[0m \u001b[38;5;28;01mdef\u001b[39;00m \u001b[38;5;21m_set_item\u001b[39m(\u001b[38;5;28mself\u001b[39m, key, value) \u001b[38;5;241m-\u001b[39m\u001b[38;5;241m>\u001b[39m \u001b[38;5;28;01mNone\u001b[39;00m:\n\u001b[0;32m   4503\u001b[0m \u001b[38;5;250m    \u001b[39m\u001b[38;5;124;03m\"\"\"\u001b[39;00m\n\u001b[0;32m   4504\u001b[0m \u001b[38;5;124;03m    Add series to DataFrame in specified column.\u001b[39;00m\n\u001b[0;32m   4505\u001b[0m \n\u001b[1;32m   (...)\u001b[0m\n\u001b[0;32m   4510\u001b[0m \u001b[38;5;124;03m    ensure homogeneity.\u001b[39;00m\n\u001b[0;32m   4511\u001b[0m \u001b[38;5;124;03m    \"\"\"\u001b[39;00m\n\u001b[1;32m-> 4512\u001b[0m     value, refs \u001b[38;5;241m=\u001b[39m \u001b[38;5;28;43mself\u001b[39;49m\u001b[38;5;241;43m.\u001b[39;49m\u001b[43m_sanitize_column\u001b[49m\u001b[43m(\u001b[49m\u001b[43mvalue\u001b[49m\u001b[43m)\u001b[49m\n\u001b[0;32m   4514\u001b[0m     \u001b[38;5;28;01mif\u001b[39;00m (\n\u001b[0;32m   4515\u001b[0m         key \u001b[38;5;129;01min\u001b[39;00m \u001b[38;5;28mself\u001b[39m\u001b[38;5;241m.\u001b[39mcolumns\n\u001b[0;32m   4516\u001b[0m         \u001b[38;5;129;01mand\u001b[39;00m value\u001b[38;5;241m.\u001b[39mndim \u001b[38;5;241m==\u001b[39m \u001b[38;5;241m1\u001b[39m\n\u001b[0;32m   4517\u001b[0m         \u001b[38;5;129;01mand\u001b[39;00m \u001b[38;5;129;01mnot\u001b[39;00m \u001b[38;5;28misinstance\u001b[39m(value\u001b[38;5;241m.\u001b[39mdtype, ExtensionDtype)\n\u001b[0;32m   4518\u001b[0m     ):\n\u001b[0;32m   4519\u001b[0m         \u001b[38;5;66;03m# broadcast across multiple columns if necessary\u001b[39;00m\n\u001b[0;32m   4520\u001b[0m         \u001b[38;5;28;01mif\u001b[39;00m \u001b[38;5;129;01mnot\u001b[39;00m \u001b[38;5;28mself\u001b[39m\u001b[38;5;241m.\u001b[39mcolumns\u001b[38;5;241m.\u001b[39mis_unique \u001b[38;5;129;01mor\u001b[39;00m \u001b[38;5;28misinstance\u001b[39m(\u001b[38;5;28mself\u001b[39m\u001b[38;5;241m.\u001b[39mcolumns, MultiIndex):\n",
      "File \u001b[1;32mc:\\Users\\ASUS\\AppData\\Local\\Programs\\Python\\Python311\\Lib\\site-packages\\pandas\\core\\frame.py:5253\u001b[0m, in \u001b[0;36mDataFrame._sanitize_column\u001b[1;34m(self, value)\u001b[0m\n\u001b[0;32m   5250\u001b[0m     \u001b[38;5;28;01mreturn\u001b[39;00m _reindex_for_setitem(value, \u001b[38;5;28mself\u001b[39m\u001b[38;5;241m.\u001b[39mindex)\n\u001b[0;32m   5252\u001b[0m \u001b[38;5;28;01mif\u001b[39;00m is_list_like(value):\n\u001b[1;32m-> 5253\u001b[0m     \u001b[43mcom\u001b[49m\u001b[38;5;241;43m.\u001b[39;49m\u001b[43mrequire_length_match\u001b[49m\u001b[43m(\u001b[49m\u001b[43mvalue\u001b[49m\u001b[43m,\u001b[49m\u001b[43m \u001b[49m\u001b[38;5;28;43mself\u001b[39;49m\u001b[38;5;241;43m.\u001b[39;49m\u001b[43mindex\u001b[49m\u001b[43m)\u001b[49m\n\u001b[0;32m   5254\u001b[0m arr \u001b[38;5;241m=\u001b[39m sanitize_array(value, \u001b[38;5;28mself\u001b[39m\u001b[38;5;241m.\u001b[39mindex, copy\u001b[38;5;241m=\u001b[39m\u001b[38;5;28;01mTrue\u001b[39;00m, allow_2d\u001b[38;5;241m=\u001b[39m\u001b[38;5;28;01mTrue\u001b[39;00m)\n\u001b[0;32m   5255\u001b[0m \u001b[38;5;28;01mif\u001b[39;00m (\n\u001b[0;32m   5256\u001b[0m     \u001b[38;5;28misinstance\u001b[39m(value, Index)\n\u001b[0;32m   5257\u001b[0m     \u001b[38;5;129;01mand\u001b[39;00m value\u001b[38;5;241m.\u001b[39mdtype \u001b[38;5;241m==\u001b[39m \u001b[38;5;124m\"\u001b[39m\u001b[38;5;124mobject\u001b[39m\u001b[38;5;124m\"\u001b[39m\n\u001b[1;32m   (...)\u001b[0m\n\u001b[0;32m   5260\u001b[0m     \u001b[38;5;66;03m# TODO: Remove kludge in sanitize_array for string mode when enforcing\u001b[39;00m\n\u001b[0;32m   5261\u001b[0m     \u001b[38;5;66;03m# this deprecation\u001b[39;00m\n",
      "File \u001b[1;32mc:\\Users\\ASUS\\AppData\\Local\\Programs\\Python\\Python311\\Lib\\site-packages\\pandas\\core\\common.py:571\u001b[0m, in \u001b[0;36mrequire_length_match\u001b[1;34m(data, index)\u001b[0m\n\u001b[0;32m    567\u001b[0m \u001b[38;5;250m\u001b[39m\u001b[38;5;124;03m\"\"\"\u001b[39;00m\n\u001b[0;32m    568\u001b[0m \u001b[38;5;124;03mCheck the length of data matches the length of the index.\u001b[39;00m\n\u001b[0;32m    569\u001b[0m \u001b[38;5;124;03m\"\"\"\u001b[39;00m\n\u001b[0;32m    570\u001b[0m \u001b[38;5;28;01mif\u001b[39;00m \u001b[38;5;28mlen\u001b[39m(data) \u001b[38;5;241m!=\u001b[39m \u001b[38;5;28mlen\u001b[39m(index):\n\u001b[1;32m--> 571\u001b[0m     \u001b[38;5;28;01mraise\u001b[39;00m \u001b[38;5;167;01mValueError\u001b[39;00m(\n\u001b[0;32m    572\u001b[0m         \u001b[38;5;124m\"\u001b[39m\u001b[38;5;124mLength of values \u001b[39m\u001b[38;5;124m\"\u001b[39m\n\u001b[0;32m    573\u001b[0m         \u001b[38;5;124mf\u001b[39m\u001b[38;5;124m\"\u001b[39m\u001b[38;5;124m(\u001b[39m\u001b[38;5;132;01m{\u001b[39;00m\u001b[38;5;28mlen\u001b[39m(data)\u001b[38;5;132;01m}\u001b[39;00m\u001b[38;5;124m) \u001b[39m\u001b[38;5;124m\"\u001b[39m\n\u001b[0;32m    574\u001b[0m         \u001b[38;5;124m\"\u001b[39m\u001b[38;5;124mdoes not match length of index \u001b[39m\u001b[38;5;124m\"\u001b[39m\n\u001b[0;32m    575\u001b[0m         \u001b[38;5;124mf\u001b[39m\u001b[38;5;124m\"\u001b[39m\u001b[38;5;124m(\u001b[39m\u001b[38;5;132;01m{\u001b[39;00m\u001b[38;5;28mlen\u001b[39m(index)\u001b[38;5;132;01m}\u001b[39;00m\u001b[38;5;124m)\u001b[39m\u001b[38;5;124m\"\u001b[39m\n\u001b[0;32m    576\u001b[0m     )\n",
      "\u001b[1;31mValueError\u001b[0m: Length of values (10) does not match length of index (3)"
     ]
    }
   ],
   "source": [
    "%%time\n",
    "\n",
    "Faker.seed(17)\n",
    "\n",
    "fake_workers = [\n",
    "    {\n",
    "        \"ids\" : \"\",\n",
    "        \"emp_name\" : faker.name(),\n",
    "        \"emp_address\" : faker.address(),\n",
    "        \"emp_ciy\" : faker.city(),\n",
    "        \"emp_email\" : faker.unique.email(),\n",
    "        \"emp_tel\" : faker.unique.phone_number(),\n",
    "        \"emp_status\" : faker.random_element(elements = [\"Active\", \"Terminated\", \"Resigned\"])\n",
    "    }\n",
    "    for x in range(3)]\n",
    "\n",
    "df = pd.DataFrame(fake_workers)\n",
    "df[\"ids\"] = range(0,10)\n",
    "\n",
    "df.head(2)"
   ]
  },
  {
   "cell_type": "code",
   "execution_count": null,
   "metadata": {},
   "outputs": [],
   "source": [
    "faker."
   ]
  },
  {
   "cell_type": "markdown",
   "metadata": {},
   "source": [
    "#### Masquage de données"
   ]
  },
  {
   "cell_type": "code",
   "execution_count": 10,
   "metadata": {},
   "outputs": [
    {
     "data": {
      "text/plain": [
       "'XX'"
      ]
     },
     "execution_count": 10,
     "metadata": {},
     "output_type": "execute_result"
    }
   ],
   "source": [
    "def masque_number(number = 45):\n",
    "    number = str(number)\n",
    "    for value in range(10):\n",
    "        number = number.replace(str(value), \"X\")\n",
    "    return number\n",
    "masque_number()"
   ]
  },
  {
   "cell_type": "code",
   "execution_count": 11,
   "metadata": {},
   "outputs": [],
   "source": [
    "df[\"emp_tel_chiffre\"] = df[\"emp_tel\"].apply(masque_number)"
   ]
  },
  {
   "cell_type": "code",
   "execution_count": 12,
   "metadata": {},
   "outputs": [
    {
     "data": {
      "text/html": [
       "<div>\n",
       "<style scoped>\n",
       "    .dataframe tbody tr th:only-of-type {\n",
       "        vertical-align: middle;\n",
       "    }\n",
       "\n",
       "    .dataframe tbody tr th {\n",
       "        vertical-align: top;\n",
       "    }\n",
       "\n",
       "    .dataframe thead th {\n",
       "        text-align: right;\n",
       "    }\n",
       "</style>\n",
       "<table border=\"1\" class=\"dataframe\">\n",
       "  <thead>\n",
       "    <tr style=\"text-align: right;\">\n",
       "      <th></th>\n",
       "      <th>ids</th>\n",
       "      <th>emp_name</th>\n",
       "      <th>emp_address</th>\n",
       "      <th>emp_ciy</th>\n",
       "      <th>emp_email</th>\n",
       "      <th>emp_tel</th>\n",
       "      <th>emp_status</th>\n",
       "      <th>emp_tel_chiffre</th>\n",
       "    </tr>\n",
       "  </thead>\n",
       "  <tbody>\n",
       "    <tr>\n",
       "      <th>0</th>\n",
       "      <td>0</td>\n",
       "      <td>Patricia Le Poulain</td>\n",
       "      <td>141, avenue Letellier\\n53358 Prévostnec</td>\n",
       "      <td>Courtois</td>\n",
       "      <td>jolysylvie@example.org</td>\n",
       "      <td>+33 3 61 58 11 46</td>\n",
       "      <td>Active</td>\n",
       "      <td>+XX X XX XX XX XX</td>\n",
       "    </tr>\n",
       "    <tr>\n",
       "      <th>1</th>\n",
       "      <td>1</td>\n",
       "      <td>Thérèse de la Normand</td>\n",
       "      <td>70, boulevard Bernard Chrétien\\n94463 Sainte Alix</td>\n",
       "      <td>Becker-sur-Thomas</td>\n",
       "      <td>hdupuis@example.net</td>\n",
       "      <td>+33 3 84 85 04 14</td>\n",
       "      <td>Active</td>\n",
       "      <td>+XX X XX XX XX XX</td>\n",
       "    </tr>\n",
       "  </tbody>\n",
       "</table>\n",
       "</div>"
      ],
      "text/plain": [
       "   ids               emp_name  \\\n",
       "0    0    Patricia Le Poulain   \n",
       "1    1  Thérèse de la Normand   \n",
       "\n",
       "                                         emp_address            emp_ciy  \\\n",
       "0            141, avenue Letellier\\n53358 Prévostnec           Courtois   \n",
       "1  70, boulevard Bernard Chrétien\\n94463 Sainte Alix  Becker-sur-Thomas   \n",
       "\n",
       "                emp_email            emp_tel emp_status    emp_tel_chiffre  \n",
       "0  jolysylvie@example.org  +33 3 61 58 11 46     Active  +XX X XX XX XX XX  \n",
       "1     hdupuis@example.net  +33 3 84 85 04 14     Active  +XX X XX XX XX XX  "
      ]
     },
     "execution_count": 12,
     "metadata": {},
     "output_type": "execute_result"
    }
   ],
   "source": [
    "df.head(2)"
   ]
  },
  {
   "cell_type": "markdown",
   "metadata": {},
   "source": [
    "#### Chiffrage de données"
   ]
  },
  {
   "cell_type": "code",
   "execution_count": 13,
   "metadata": {},
   "outputs": [],
   "source": [
    "df[\"emp_name_chiffre\"] = df[\"emp_name\"].apply(lambda x: cryptocode.encrypt(x, \"who\"))"
   ]
  },
  {
   "cell_type": "code",
   "execution_count": 14,
   "metadata": {},
   "outputs": [
    {
     "data": {
      "text/html": [
       "<div>\n",
       "<style scoped>\n",
       "    .dataframe tbody tr th:only-of-type {\n",
       "        vertical-align: middle;\n",
       "    }\n",
       "\n",
       "    .dataframe tbody tr th {\n",
       "        vertical-align: top;\n",
       "    }\n",
       "\n",
       "    .dataframe thead th {\n",
       "        text-align: right;\n",
       "    }\n",
       "</style>\n",
       "<table border=\"1\" class=\"dataframe\">\n",
       "  <thead>\n",
       "    <tr style=\"text-align: right;\">\n",
       "      <th></th>\n",
       "      <th>ids</th>\n",
       "      <th>emp_name</th>\n",
       "      <th>emp_address</th>\n",
       "      <th>emp_ciy</th>\n",
       "      <th>emp_email</th>\n",
       "      <th>emp_tel</th>\n",
       "      <th>emp_status</th>\n",
       "      <th>emp_tel_chiffre</th>\n",
       "      <th>emp_name_chiffre</th>\n",
       "    </tr>\n",
       "  </thead>\n",
       "  <tbody>\n",
       "    <tr>\n",
       "      <th>0</th>\n",
       "      <td>0</td>\n",
       "      <td>Patricia Le Poulain</td>\n",
       "      <td>141, avenue Letellier\\n53358 Prévostnec</td>\n",
       "      <td>Courtois</td>\n",
       "      <td>jolysylvie@example.org</td>\n",
       "      <td>+33 3 61 58 11 46</td>\n",
       "      <td>Active</td>\n",
       "      <td>+XX X XX XX XX XX</td>\n",
       "      <td>qXDB4UYYRjuwahY4cpl5U+j1+w==*msINB/fy+6YvgsSq9...</td>\n",
       "    </tr>\n",
       "    <tr>\n",
       "      <th>1</th>\n",
       "      <td>1</td>\n",
       "      <td>Thérèse de la Normand</td>\n",
       "      <td>70, boulevard Bernard Chrétien\\n94463 Sainte Alix</td>\n",
       "      <td>Becker-sur-Thomas</td>\n",
       "      <td>hdupuis@example.net</td>\n",
       "      <td>+33 3 84 85 04 14</td>\n",
       "      <td>Active</td>\n",
       "      <td>+XX X XX XX XX XX</td>\n",
       "      <td>um/sKZvm9Krf+u0kjO/nccL+p8Y2J3o=*76f1FHYcLrLRZ...</td>\n",
       "    </tr>\n",
       "  </tbody>\n",
       "</table>\n",
       "</div>"
      ],
      "text/plain": [
       "   ids               emp_name  \\\n",
       "0    0    Patricia Le Poulain   \n",
       "1    1  Thérèse de la Normand   \n",
       "\n",
       "                                         emp_address            emp_ciy  \\\n",
       "0            141, avenue Letellier\\n53358 Prévostnec           Courtois   \n",
       "1  70, boulevard Bernard Chrétien\\n94463 Sainte Alix  Becker-sur-Thomas   \n",
       "\n",
       "                emp_email            emp_tel emp_status    emp_tel_chiffre  \\\n",
       "0  jolysylvie@example.org  +33 3 61 58 11 46     Active  +XX X XX XX XX XX   \n",
       "1     hdupuis@example.net  +33 3 84 85 04 14     Active  +XX X XX XX XX XX   \n",
       "\n",
       "                                    emp_name_chiffre  \n",
       "0  qXDB4UYYRjuwahY4cpl5U+j1+w==*msINB/fy+6YvgsSq9...  \n",
       "1  um/sKZvm9Krf+u0kjO/nccL+p8Y2J3o=*76f1FHYcLrLRZ...  "
      ]
     },
     "execution_count": 14,
     "metadata": {},
     "output_type": "execute_result"
    }
   ],
   "source": [
    "df.head(2)"
   ]
  },
  {
   "cell_type": "markdown",
   "metadata": {},
   "source": [
    "#### Pseudonomisation"
   ]
  },
  {
   "cell_type": "code",
   "execution_count": 15,
   "metadata": {},
   "outputs": [],
   "source": [
    "df[\"emp_name_pseudo\"] = df[\"emp_name\"].apply(lambda x: faker.name())"
   ]
  },
  {
   "cell_type": "code",
   "execution_count": 16,
   "metadata": {},
   "outputs": [
    {
     "data": {
      "text/html": [
       "<div>\n",
       "<style scoped>\n",
       "    .dataframe tbody tr th:only-of-type {\n",
       "        vertical-align: middle;\n",
       "    }\n",
       "\n",
       "    .dataframe tbody tr th {\n",
       "        vertical-align: top;\n",
       "    }\n",
       "\n",
       "    .dataframe thead th {\n",
       "        text-align: right;\n",
       "    }\n",
       "</style>\n",
       "<table border=\"1\" class=\"dataframe\">\n",
       "  <thead>\n",
       "    <tr style=\"text-align: right;\">\n",
       "      <th></th>\n",
       "      <th>ids</th>\n",
       "      <th>emp_name</th>\n",
       "      <th>emp_address</th>\n",
       "      <th>emp_ciy</th>\n",
       "      <th>emp_email</th>\n",
       "      <th>emp_tel</th>\n",
       "      <th>emp_status</th>\n",
       "      <th>emp_tel_chiffre</th>\n",
       "      <th>emp_name_chiffre</th>\n",
       "      <th>emp_name_pseudo</th>\n",
       "    </tr>\n",
       "  </thead>\n",
       "  <tbody>\n",
       "    <tr>\n",
       "      <th>0</th>\n",
       "      <td>0</td>\n",
       "      <td>Patricia Le Poulain</td>\n",
       "      <td>141, avenue Letellier\\n53358 Prévostnec</td>\n",
       "      <td>Courtois</td>\n",
       "      <td>jolysylvie@example.org</td>\n",
       "      <td>+33 3 61 58 11 46</td>\n",
       "      <td>Active</td>\n",
       "      <td>+XX X XX XX XX XX</td>\n",
       "      <td>qXDB4UYYRjuwahY4cpl5U+j1+w==*msINB/fy+6YvgsSq9...</td>\n",
       "      <td>Claire-Renée Duval</td>\n",
       "    </tr>\n",
       "    <tr>\n",
       "      <th>1</th>\n",
       "      <td>1</td>\n",
       "      <td>Thérèse de la Normand</td>\n",
       "      <td>70, boulevard Bernard Chrétien\\n94463 Sainte Alix</td>\n",
       "      <td>Becker-sur-Thomas</td>\n",
       "      <td>hdupuis@example.net</td>\n",
       "      <td>+33 3 84 85 04 14</td>\n",
       "      <td>Active</td>\n",
       "      <td>+XX X XX XX XX XX</td>\n",
       "      <td>um/sKZvm9Krf+u0kjO/nccL+p8Y2J3o=*76f1FHYcLrLRZ...</td>\n",
       "      <td>Georges-Franck Benoit</td>\n",
       "    </tr>\n",
       "  </tbody>\n",
       "</table>\n",
       "</div>"
      ],
      "text/plain": [
       "   ids               emp_name  \\\n",
       "0    0    Patricia Le Poulain   \n",
       "1    1  Thérèse de la Normand   \n",
       "\n",
       "                                         emp_address            emp_ciy  \\\n",
       "0            141, avenue Letellier\\n53358 Prévostnec           Courtois   \n",
       "1  70, boulevard Bernard Chrétien\\n94463 Sainte Alix  Becker-sur-Thomas   \n",
       "\n",
       "                emp_email            emp_tel emp_status    emp_tel_chiffre  \\\n",
       "0  jolysylvie@example.org  +33 3 61 58 11 46     Active  +XX X XX XX XX XX   \n",
       "1     hdupuis@example.net  +33 3 84 85 04 14     Active  +XX X XX XX XX XX   \n",
       "\n",
       "                                    emp_name_chiffre        emp_name_pseudo  \n",
       "0  qXDB4UYYRjuwahY4cpl5U+j1+w==*msINB/fy+6YvgsSq9...     Claire-Renée Duval  \n",
       "1  um/sKZvm9Krf+u0kjO/nccL+p8Y2J3o=*76f1FHYcLrLRZ...  Georges-Franck Benoit  "
      ]
     },
     "execution_count": 16,
     "metadata": {},
     "output_type": "execute_result"
    }
   ],
   "source": [
    "df.head(2)"
   ]
  },
  {
   "cell_type": "markdown",
   "metadata": {},
   "source": [
    "#### Substitution"
   ]
  },
  {
   "cell_type": "code",
   "execution_count": null,
   "metadata": {},
   "outputs": [],
   "source": [
    "import datetime"
   ]
  },
  {
   "cell_type": "code",
   "execution_count": 25,
   "metadata": {},
   "outputs": [],
   "source": [
    "df[\"emp_birth\"] = df[\"ids\"].apply(lambda x : faker.date_between_dates(date_start= datetime.datetime(1998, 4, 27, 7, 18, 46, 476697), date_end= datetime.datetime(2020, 4, 27, 7, 18, 46, 476697)))"
   ]
  },
  {
   "cell_type": "code",
   "execution_count": 26,
   "metadata": {},
   "outputs": [],
   "source": [
    "df[\"emp_birth_sub\"] = df[\"emp_birth\"].apply(lambda x : faker.date_between_dates(date_start= datetime.datetime(1998, 4, 27, 7, 18, 46, 476697), date_end= datetime.datetime(2005, 4, 27, 7, 18, 46, 476697)))"
   ]
  },
  {
   "cell_type": "markdown",
   "metadata": {},
   "source": [
    "#### Généralisation"
   ]
  },
  {
   "cell_type": "code",
   "execution_count": 27,
   "metadata": {},
   "outputs": [],
   "source": [
    "df[\"emp_birth_sub\"] = df[\"emp_birth\"].apply(lambda x : x.year)"
   ]
  },
  {
   "cell_type": "code",
   "execution_count": 28,
   "metadata": {},
   "outputs": [
    {
     "data": {
      "text/html": [
       "<div>\n",
       "<style scoped>\n",
       "    .dataframe tbody tr th:only-of-type {\n",
       "        vertical-align: middle;\n",
       "    }\n",
       "\n",
       "    .dataframe tbody tr th {\n",
       "        vertical-align: top;\n",
       "    }\n",
       "\n",
       "    .dataframe thead th {\n",
       "        text-align: right;\n",
       "    }\n",
       "</style>\n",
       "<table border=\"1\" class=\"dataframe\">\n",
       "  <thead>\n",
       "    <tr style=\"text-align: right;\">\n",
       "      <th></th>\n",
       "      <th>ids</th>\n",
       "      <th>emp_name</th>\n",
       "      <th>emp_address</th>\n",
       "      <th>emp_ciy</th>\n",
       "      <th>emp_email</th>\n",
       "      <th>emp_tel</th>\n",
       "      <th>emp_status</th>\n",
       "      <th>emp_tel_chiffre</th>\n",
       "      <th>emp_name_chiffre</th>\n",
       "      <th>emp_name_pseudo</th>\n",
       "      <th>emp_birth</th>\n",
       "      <th>emp_birth_sub</th>\n",
       "    </tr>\n",
       "  </thead>\n",
       "  <tbody>\n",
       "    <tr>\n",
       "      <th>0</th>\n",
       "      <td>0</td>\n",
       "      <td>Patricia Le Poulain</td>\n",
       "      <td>141, avenue Letellier\\n53358 Prévostnec</td>\n",
       "      <td>Courtois</td>\n",
       "      <td>jolysylvie@example.org</td>\n",
       "      <td>+33 3 61 58 11 46</td>\n",
       "      <td>Active</td>\n",
       "      <td>+XX X XX XX XX XX</td>\n",
       "      <td>qXDB4UYYRjuwahY4cpl5U+j1+w==*msINB/fy+6YvgsSq9...</td>\n",
       "      <td>Claire-Renée Duval</td>\n",
       "      <td>2005-05-25</td>\n",
       "      <td>2005</td>\n",
       "    </tr>\n",
       "    <tr>\n",
       "      <th>1</th>\n",
       "      <td>1</td>\n",
       "      <td>Thérèse de la Normand</td>\n",
       "      <td>70, boulevard Bernard Chrétien\\n94463 Sainte Alix</td>\n",
       "      <td>Becker-sur-Thomas</td>\n",
       "      <td>hdupuis@example.net</td>\n",
       "      <td>+33 3 84 85 04 14</td>\n",
       "      <td>Active</td>\n",
       "      <td>+XX X XX XX XX XX</td>\n",
       "      <td>um/sKZvm9Krf+u0kjO/nccL+p8Y2J3o=*76f1FHYcLrLRZ...</td>\n",
       "      <td>Georges-Franck Benoit</td>\n",
       "      <td>2010-08-30</td>\n",
       "      <td>2010</td>\n",
       "    </tr>\n",
       "  </tbody>\n",
       "</table>\n",
       "</div>"
      ],
      "text/plain": [
       "   ids               emp_name  \\\n",
       "0    0    Patricia Le Poulain   \n",
       "1    1  Thérèse de la Normand   \n",
       "\n",
       "                                         emp_address            emp_ciy  \\\n",
       "0            141, avenue Letellier\\n53358 Prévostnec           Courtois   \n",
       "1  70, boulevard Bernard Chrétien\\n94463 Sainte Alix  Becker-sur-Thomas   \n",
       "\n",
       "                emp_email            emp_tel emp_status    emp_tel_chiffre  \\\n",
       "0  jolysylvie@example.org  +33 3 61 58 11 46     Active  +XX X XX XX XX XX   \n",
       "1     hdupuis@example.net  +33 3 84 85 04 14     Active  +XX X XX XX XX XX   \n",
       "\n",
       "                                    emp_name_chiffre        emp_name_pseudo  \\\n",
       "0  qXDB4UYYRjuwahY4cpl5U+j1+w==*msINB/fy+6YvgsSq9...     Claire-Renée Duval   \n",
       "1  um/sKZvm9Krf+u0kjO/nccL+p8Y2J3o=*76f1FHYcLrLRZ...  Georges-Franck Benoit   \n",
       "\n",
       "    emp_birth  emp_birth_sub  \n",
       "0  2005-05-25           2005  \n",
       "1  2010-08-30           2010  "
      ]
     },
     "execution_count": 28,
     "metadata": {},
     "output_type": "execute_result"
    }
   ],
   "source": [
    "df.head(2)"
   ]
  },
  {
   "cell_type": "markdown",
   "metadata": {},
   "source": [
    "#### Randomisation"
   ]
  },
  {
   "cell_type": "code",
   "execution_count": 29,
   "metadata": {},
   "outputs": [],
   "source": [
    "from random import randint"
   ]
  },
  {
   "cell_type": "code",
   "execution_count": 30,
   "metadata": {},
   "outputs": [
    {
     "data": {
      "text/plain": [
       "14"
      ]
     },
     "execution_count": 30,
     "metadata": {},
     "output_type": "execute_result"
    }
   ],
   "source": [
    "randint(1, 15)"
   ]
  },
  {
   "cell_type": "code",
   "execution_count": 31,
   "metadata": {},
   "outputs": [],
   "source": [
    "df[\"emp_age\"] = df[\"emp_birth\"].apply(lambda x : randint(18, 38))"
   ]
  },
  {
   "cell_type": "code",
   "execution_count": 40,
   "metadata": {},
   "outputs": [],
   "source": [
    "# Regrouper en classes pour l'analyse\n",
    "bornes_classes = [20, 30, 40]\n",
    "\n",
    "# Ajouter une nouvelle colonne au DataFrame avec les classes\n",
    "df['emp_age_class'] = pd.cut(df['emp_age'], bins=bornes_classes, right=False)\n",
    "df['emp_age_class'] = df['emp_age_class'].astype(str).replace(\")\", \"[\")"
   ]
  },
  {
   "cell_type": "code",
   "execution_count": 36,
   "metadata": {},
   "outputs": [
    {
     "data": {
      "text/html": [
       "<div>\n",
       "<style scoped>\n",
       "    .dataframe tbody tr th:only-of-type {\n",
       "        vertical-align: middle;\n",
       "    }\n",
       "\n",
       "    .dataframe tbody tr th {\n",
       "        vertical-align: top;\n",
       "    }\n",
       "\n",
       "    .dataframe thead th {\n",
       "        text-align: right;\n",
       "    }\n",
       "</style>\n",
       "<table border=\"1\" class=\"dataframe\">\n",
       "  <thead>\n",
       "    <tr style=\"text-align: right;\">\n",
       "      <th></th>\n",
       "      <th>ids</th>\n",
       "      <th>emp_name</th>\n",
       "      <th>emp_address</th>\n",
       "      <th>emp_ciy</th>\n",
       "      <th>emp_email</th>\n",
       "      <th>emp_tel</th>\n",
       "      <th>emp_status</th>\n",
       "      <th>emp_tel_chiffre</th>\n",
       "      <th>emp_name_chiffre</th>\n",
       "      <th>emp_name_pseudo</th>\n",
       "      <th>emp_birth</th>\n",
       "      <th>emp_birth_sub</th>\n",
       "      <th>emp_age</th>\n",
       "      <th>emp_age_class</th>\n",
       "    </tr>\n",
       "  </thead>\n",
       "  <tbody>\n",
       "    <tr>\n",
       "      <th>0</th>\n",
       "      <td>0</td>\n",
       "      <td>Patricia Le Poulain</td>\n",
       "      <td>141, avenue Letellier\\n53358 Prévostnec</td>\n",
       "      <td>Courtois</td>\n",
       "      <td>jolysylvie@example.org</td>\n",
       "      <td>+33 3 61 58 11 46</td>\n",
       "      <td>Active</td>\n",
       "      <td>+XX X XX XX XX XX</td>\n",
       "      <td>qXDB4UYYRjuwahY4cpl5U+j1+w==*msINB/fy+6YvgsSq9...</td>\n",
       "      <td>Claire-Renée Duval</td>\n",
       "      <td>2005-05-25</td>\n",
       "      <td>2005</td>\n",
       "      <td>22</td>\n",
       "      <td>[20, 30)</td>\n",
       "    </tr>\n",
       "    <tr>\n",
       "      <th>1</th>\n",
       "      <td>1</td>\n",
       "      <td>Thérèse de la Normand</td>\n",
       "      <td>70, boulevard Bernard Chrétien\\n94463 Sainte Alix</td>\n",
       "      <td>Becker-sur-Thomas</td>\n",
       "      <td>hdupuis@example.net</td>\n",
       "      <td>+33 3 84 85 04 14</td>\n",
       "      <td>Active</td>\n",
       "      <td>+XX X XX XX XX XX</td>\n",
       "      <td>um/sKZvm9Krf+u0kjO/nccL+p8Y2J3o=*76f1FHYcLrLRZ...</td>\n",
       "      <td>Georges-Franck Benoit</td>\n",
       "      <td>2010-08-30</td>\n",
       "      <td>2010</td>\n",
       "      <td>37</td>\n",
       "      <td>[30, 40)</td>\n",
       "    </tr>\n",
       "  </tbody>\n",
       "</table>\n",
       "</div>"
      ],
      "text/plain": [
       "   ids               emp_name  \\\n",
       "0    0    Patricia Le Poulain   \n",
       "1    1  Thérèse de la Normand   \n",
       "\n",
       "                                         emp_address            emp_ciy  \\\n",
       "0            141, avenue Letellier\\n53358 Prévostnec           Courtois   \n",
       "1  70, boulevard Bernard Chrétien\\n94463 Sainte Alix  Becker-sur-Thomas   \n",
       "\n",
       "                emp_email            emp_tel emp_status    emp_tel_chiffre  \\\n",
       "0  jolysylvie@example.org  +33 3 61 58 11 46     Active  +XX X XX XX XX XX   \n",
       "1     hdupuis@example.net  +33 3 84 85 04 14     Active  +XX X XX XX XX XX   \n",
       "\n",
       "                                    emp_name_chiffre        emp_name_pseudo  \\\n",
       "0  qXDB4UYYRjuwahY4cpl5U+j1+w==*msINB/fy+6YvgsSq9...     Claire-Renée Duval   \n",
       "1  um/sKZvm9Krf+u0kjO/nccL+p8Y2J3o=*76f1FHYcLrLRZ...  Georges-Franck Benoit   \n",
       "\n",
       "    emp_birth  emp_birth_sub  emp_age emp_age_class  \n",
       "0  2005-05-25           2005       22      [20, 30)  \n",
       "1  2010-08-30           2010       37      [30, 40)  "
      ]
     },
     "execution_count": 36,
     "metadata": {},
     "output_type": "execute_result"
    }
   ],
   "source": [
    "df.head(2)"
   ]
  },
  {
   "cell_type": "markdown",
   "metadata": {},
   "source": [
    "#### Suppression"
   ]
  },
  {
   "cell_type": "code",
   "execution_count": 43,
   "metadata": {},
   "outputs": [
    {
     "data": {
      "text/html": [
       "<div>\n",
       "<style scoped>\n",
       "    .dataframe tbody tr th:only-of-type {\n",
       "        vertical-align: middle;\n",
       "    }\n",
       "\n",
       "    .dataframe tbody tr th {\n",
       "        vertical-align: top;\n",
       "    }\n",
       "\n",
       "    .dataframe thead th {\n",
       "        text-align: right;\n",
       "    }\n",
       "</style>\n",
       "<table border=\"1\" class=\"dataframe\">\n",
       "  <thead>\n",
       "    <tr style=\"text-align: right;\">\n",
       "      <th></th>\n",
       "      <th>ids</th>\n",
       "      <th>emp_name</th>\n",
       "      <th>emp_address</th>\n",
       "      <th>emp_ciy</th>\n",
       "      <th>emp_email</th>\n",
       "      <th>emp_tel</th>\n",
       "      <th>emp_status</th>\n",
       "      <th>emp_tel_chiffre</th>\n",
       "      <th>emp_name_chiffre</th>\n",
       "      <th>emp_name_pseudo</th>\n",
       "      <th>emp_birth</th>\n",
       "      <th>emp_birth_sub</th>\n",
       "      <th>emp_age</th>\n",
       "      <th>emp_age_class</th>\n",
       "      <th>emp_address_copy</th>\n",
       "    </tr>\n",
       "  </thead>\n",
       "  <tbody>\n",
       "    <tr>\n",
       "      <th>0</th>\n",
       "      <td>0</td>\n",
       "      <td>Patricia Le Poulain</td>\n",
       "      <td>141, avenue Letellier\\n53358 Prévostnec</td>\n",
       "      <td>Courtois</td>\n",
       "      <td>jolysylvie@example.org</td>\n",
       "      <td>+33 3 61 58 11 46</td>\n",
       "      <td>Active</td>\n",
       "      <td>+XX X XX XX XX XX</td>\n",
       "      <td>qXDB4UYYRjuwahY4cpl5U+j1+w==*msINB/fy+6YvgsSq9...</td>\n",
       "      <td>Claire-Renée Duval</td>\n",
       "      <td>2005-05-25</td>\n",
       "      <td>2005</td>\n",
       "      <td>22</td>\n",
       "      <td>[20, 30)</td>\n",
       "      <td>141, avenue Letellier\\n53358 Prévostnec</td>\n",
       "    </tr>\n",
       "    <tr>\n",
       "      <th>1</th>\n",
       "      <td>1</td>\n",
       "      <td>Thérèse de la Normand</td>\n",
       "      <td>70, boulevard Bernard Chrétien\\n94463 Sainte Alix</td>\n",
       "      <td>Becker-sur-Thomas</td>\n",
       "      <td>hdupuis@example.net</td>\n",
       "      <td>+33 3 84 85 04 14</td>\n",
       "      <td>Active</td>\n",
       "      <td>+XX X XX XX XX XX</td>\n",
       "      <td>um/sKZvm9Krf+u0kjO/nccL+p8Y2J3o=*76f1FHYcLrLRZ...</td>\n",
       "      <td>Georges-Franck Benoit</td>\n",
       "      <td>2010-08-30</td>\n",
       "      <td>2010</td>\n",
       "      <td>37</td>\n",
       "      <td>[30, 40)</td>\n",
       "      <td>70, boulevard Bernard Chrétien\\n94463 Sainte Alix</td>\n",
       "    </tr>\n",
       "  </tbody>\n",
       "</table>\n",
       "</div>"
      ],
      "text/plain": [
       "   ids               emp_name  \\\n",
       "0    0    Patricia Le Poulain   \n",
       "1    1  Thérèse de la Normand   \n",
       "\n",
       "                                         emp_address            emp_ciy  \\\n",
       "0            141, avenue Letellier\\n53358 Prévostnec           Courtois   \n",
       "1  70, boulevard Bernard Chrétien\\n94463 Sainte Alix  Becker-sur-Thomas   \n",
       "\n",
       "                emp_email            emp_tel emp_status    emp_tel_chiffre  \\\n",
       "0  jolysylvie@example.org  +33 3 61 58 11 46     Active  +XX X XX XX XX XX   \n",
       "1     hdupuis@example.net  +33 3 84 85 04 14     Active  +XX X XX XX XX XX   \n",
       "\n",
       "                                    emp_name_chiffre        emp_name_pseudo  \\\n",
       "0  qXDB4UYYRjuwahY4cpl5U+j1+w==*msINB/fy+6YvgsSq9...     Claire-Renée Duval   \n",
       "1  um/sKZvm9Krf+u0kjO/nccL+p8Y2J3o=*76f1FHYcLrLRZ...  Georges-Franck Benoit   \n",
       "\n",
       "    emp_birth  emp_birth_sub  emp_age emp_age_class  \\\n",
       "0  2005-05-25           2005       22      [20, 30)   \n",
       "1  2010-08-30           2010       37      [30, 40)   \n",
       "\n",
       "                                    emp_address_copy  \n",
       "0            141, avenue Letellier\\n53358 Prévostnec  \n",
       "1  70, boulevard Bernard Chrétien\\n94463 Sainte Alix  "
      ]
     },
     "execution_count": 43,
     "metadata": {},
     "output_type": "execute_result"
    }
   ],
   "source": [
    "df[\"emp_address_copy\"] = df[\"emp_address\"]\n",
    "df.head(2)"
   ]
  },
  {
   "cell_type": "code",
   "execution_count": 44,
   "metadata": {},
   "outputs": [
    {
     "data": {
      "text/html": [
       "<div>\n",
       "<style scoped>\n",
       "    .dataframe tbody tr th:only-of-type {\n",
       "        vertical-align: middle;\n",
       "    }\n",
       "\n",
       "    .dataframe tbody tr th {\n",
       "        vertical-align: top;\n",
       "    }\n",
       "\n",
       "    .dataframe thead th {\n",
       "        text-align: right;\n",
       "    }\n",
       "</style>\n",
       "<table border=\"1\" class=\"dataframe\">\n",
       "  <thead>\n",
       "    <tr style=\"text-align: right;\">\n",
       "      <th></th>\n",
       "      <th>ids</th>\n",
       "      <th>emp_name</th>\n",
       "      <th>emp_address</th>\n",
       "      <th>emp_ciy</th>\n",
       "      <th>emp_email</th>\n",
       "      <th>emp_tel</th>\n",
       "      <th>emp_status</th>\n",
       "      <th>emp_tel_chiffre</th>\n",
       "      <th>emp_name_chiffre</th>\n",
       "      <th>emp_name_pseudo</th>\n",
       "      <th>emp_birth</th>\n",
       "      <th>emp_birth_sub</th>\n",
       "      <th>emp_age</th>\n",
       "      <th>emp_age_class</th>\n",
       "    </tr>\n",
       "  </thead>\n",
       "  <tbody>\n",
       "    <tr>\n",
       "      <th>0</th>\n",
       "      <td>0</td>\n",
       "      <td>Patricia Le Poulain</td>\n",
       "      <td>141, avenue Letellier\\n53358 Prévostnec</td>\n",
       "      <td>Courtois</td>\n",
       "      <td>jolysylvie@example.org</td>\n",
       "      <td>+33 3 61 58 11 46</td>\n",
       "      <td>Active</td>\n",
       "      <td>+XX X XX XX XX XX</td>\n",
       "      <td>qXDB4UYYRjuwahY4cpl5U+j1+w==*msINB/fy+6YvgsSq9...</td>\n",
       "      <td>Claire-Renée Duval</td>\n",
       "      <td>2005-05-25</td>\n",
       "      <td>2005</td>\n",
       "      <td>22</td>\n",
       "      <td>[20, 30)</td>\n",
       "    </tr>\n",
       "    <tr>\n",
       "      <th>1</th>\n",
       "      <td>1</td>\n",
       "      <td>Thérèse de la Normand</td>\n",
       "      <td>70, boulevard Bernard Chrétien\\n94463 Sainte Alix</td>\n",
       "      <td>Becker-sur-Thomas</td>\n",
       "      <td>hdupuis@example.net</td>\n",
       "      <td>+33 3 84 85 04 14</td>\n",
       "      <td>Active</td>\n",
       "      <td>+XX X XX XX XX XX</td>\n",
       "      <td>um/sKZvm9Krf+u0kjO/nccL+p8Y2J3o=*76f1FHYcLrLRZ...</td>\n",
       "      <td>Georges-Franck Benoit</td>\n",
       "      <td>2010-08-30</td>\n",
       "      <td>2010</td>\n",
       "      <td>37</td>\n",
       "      <td>[30, 40)</td>\n",
       "    </tr>\n",
       "  </tbody>\n",
       "</table>\n",
       "</div>"
      ],
      "text/plain": [
       "   ids               emp_name  \\\n",
       "0    0    Patricia Le Poulain   \n",
       "1    1  Thérèse de la Normand   \n",
       "\n",
       "                                         emp_address            emp_ciy  \\\n",
       "0            141, avenue Letellier\\n53358 Prévostnec           Courtois   \n",
       "1  70, boulevard Bernard Chrétien\\n94463 Sainte Alix  Becker-sur-Thomas   \n",
       "\n",
       "                emp_email            emp_tel emp_status    emp_tel_chiffre  \\\n",
       "0  jolysylvie@example.org  +33 3 61 58 11 46     Active  +XX X XX XX XX XX   \n",
       "1     hdupuis@example.net  +33 3 84 85 04 14     Active  +XX X XX XX XX XX   \n",
       "\n",
       "                                    emp_name_chiffre        emp_name_pseudo  \\\n",
       "0  qXDB4UYYRjuwahY4cpl5U+j1+w==*msINB/fy+6YvgsSq9...     Claire-Renée Duval   \n",
       "1  um/sKZvm9Krf+u0kjO/nccL+p8Y2J3o=*76f1FHYcLrLRZ...  Georges-Franck Benoit   \n",
       "\n",
       "    emp_birth  emp_birth_sub  emp_age emp_age_class  \n",
       "0  2005-05-25           2005       22      [20, 30)  \n",
       "1  2010-08-30           2010       37      [30, 40)  "
      ]
     },
     "execution_count": 44,
     "metadata": {},
     "output_type": "execute_result"
    }
   ],
   "source": [
    "df.drop(columns= [\"emp_address_copy\"], inplace = True)\n",
    "df.head(2)"
   ]
  },
  {
   "cell_type": "markdown",
   "metadata": {},
   "source": [
    "#### Hachage"
   ]
  },
  {
   "cell_type": "code",
   "execution_count": 45,
   "metadata": {},
   "outputs": [],
   "source": [
    "import hashlib"
   ]
  },
  {
   "cell_type": "code",
   "execution_count": 52,
   "metadata": {},
   "outputs": [],
   "source": [
    "def hashage(texte):\n",
    "    md5_hash = hashlib.md5(b\"Hello World\")\n",
    "    md5_hash.update()\n",
    "    return md5_hash.digest()"
   ]
  },
  {
   "cell_type": "code",
   "execution_count": 55,
   "metadata": {},
   "outputs": [
    {
     "ename": "AttributeError",
     "evalue": "'bytes' object has no attribute 'format'",
     "output_type": "error",
     "traceback": [
      "\u001b[1;31m---------------------------------------------------------------------------\u001b[0m",
      "\u001b[1;31mAttributeError\u001b[0m                            Traceback (most recent call last)",
      "Cell \u001b[1;32mIn[55], line 1\u001b[0m\n\u001b[1;32m----> 1\u001b[0m df[\u001b[38;5;124m\"\u001b[39m\u001b[38;5;124memp_name_hash\u001b[39m\u001b[38;5;124m\"\u001b[39m] \u001b[38;5;241m=\u001b[39m \u001b[43mdf\u001b[49m\u001b[43m[\u001b[49m\u001b[38;5;124;43m\"\u001b[39;49m\u001b[38;5;124;43memp_name\u001b[39;49m\u001b[38;5;124;43m\"\u001b[39;49m\u001b[43m]\u001b[49m\u001b[38;5;241;43m.\u001b[39;49m\u001b[43mapply\u001b[49m\u001b[43m(\u001b[49m\u001b[43mhashage\u001b[49m\u001b[43m)\u001b[49m\n",
      "File \u001b[1;32mc:\\Users\\ASUS\\AppData\\Local\\Programs\\Python\\Python311\\Lib\\site-packages\\pandas\\core\\series.py:4904\u001b[0m, in \u001b[0;36mSeries.apply\u001b[1;34m(self, func, convert_dtype, args, by_row, **kwargs)\u001b[0m\n\u001b[0;32m   4769\u001b[0m \u001b[38;5;28;01mdef\u001b[39;00m \u001b[38;5;21mapply\u001b[39m(\n\u001b[0;32m   4770\u001b[0m     \u001b[38;5;28mself\u001b[39m,\n\u001b[0;32m   4771\u001b[0m     func: AggFuncType,\n\u001b[1;32m   (...)\u001b[0m\n\u001b[0;32m   4776\u001b[0m     \u001b[38;5;241m*\u001b[39m\u001b[38;5;241m*\u001b[39mkwargs,\n\u001b[0;32m   4777\u001b[0m ) \u001b[38;5;241m-\u001b[39m\u001b[38;5;241m>\u001b[39m DataFrame \u001b[38;5;241m|\u001b[39m Series:\n\u001b[0;32m   4778\u001b[0m \u001b[38;5;250m    \u001b[39m\u001b[38;5;124;03m\"\"\"\u001b[39;00m\n\u001b[0;32m   4779\u001b[0m \u001b[38;5;124;03m    Invoke function on values of Series.\u001b[39;00m\n\u001b[0;32m   4780\u001b[0m \n\u001b[1;32m   (...)\u001b[0m\n\u001b[0;32m   4895\u001b[0m \u001b[38;5;124;03m    dtype: float64\u001b[39;00m\n\u001b[0;32m   4896\u001b[0m \u001b[38;5;124;03m    \"\"\"\u001b[39;00m\n\u001b[0;32m   4897\u001b[0m     \u001b[38;5;28;01mreturn\u001b[39;00m \u001b[43mSeriesApply\u001b[49m\u001b[43m(\u001b[49m\n\u001b[0;32m   4898\u001b[0m \u001b[43m        \u001b[49m\u001b[38;5;28;43mself\u001b[39;49m\u001b[43m,\u001b[49m\n\u001b[0;32m   4899\u001b[0m \u001b[43m        \u001b[49m\u001b[43mfunc\u001b[49m\u001b[43m,\u001b[49m\n\u001b[0;32m   4900\u001b[0m \u001b[43m        \u001b[49m\u001b[43mconvert_dtype\u001b[49m\u001b[38;5;241;43m=\u001b[39;49m\u001b[43mconvert_dtype\u001b[49m\u001b[43m,\u001b[49m\n\u001b[0;32m   4901\u001b[0m \u001b[43m        \u001b[49m\u001b[43mby_row\u001b[49m\u001b[38;5;241;43m=\u001b[39;49m\u001b[43mby_row\u001b[49m\u001b[43m,\u001b[49m\n\u001b[0;32m   4902\u001b[0m \u001b[43m        \u001b[49m\u001b[43margs\u001b[49m\u001b[38;5;241;43m=\u001b[39;49m\u001b[43margs\u001b[49m\u001b[43m,\u001b[49m\n\u001b[0;32m   4903\u001b[0m \u001b[43m        \u001b[49m\u001b[43mkwargs\u001b[49m\u001b[38;5;241;43m=\u001b[39;49m\u001b[43mkwargs\u001b[49m\u001b[43m,\u001b[49m\n\u001b[1;32m-> 4904\u001b[0m \u001b[43m    \u001b[49m\u001b[43m)\u001b[49m\u001b[38;5;241;43m.\u001b[39;49m\u001b[43mapply\u001b[49m\u001b[43m(\u001b[49m\u001b[43m)\u001b[49m\n",
      "File \u001b[1;32mc:\\Users\\ASUS\\AppData\\Local\\Programs\\Python\\Python311\\Lib\\site-packages\\pandas\\core\\apply.py:1427\u001b[0m, in \u001b[0;36mSeriesApply.apply\u001b[1;34m(self)\u001b[0m\n\u001b[0;32m   1424\u001b[0m     \u001b[38;5;28;01mreturn\u001b[39;00m \u001b[38;5;28mself\u001b[39m\u001b[38;5;241m.\u001b[39mapply_compat()\n\u001b[0;32m   1426\u001b[0m \u001b[38;5;66;03m# self.func is Callable\u001b[39;00m\n\u001b[1;32m-> 1427\u001b[0m \u001b[38;5;28;01mreturn\u001b[39;00m \u001b[38;5;28;43mself\u001b[39;49m\u001b[38;5;241;43m.\u001b[39;49m\u001b[43mapply_standard\u001b[49m\u001b[43m(\u001b[49m\u001b[43m)\u001b[49m\n",
      "File \u001b[1;32mc:\\Users\\ASUS\\AppData\\Local\\Programs\\Python\\Python311\\Lib\\site-packages\\pandas\\core\\apply.py:1507\u001b[0m, in \u001b[0;36mSeriesApply.apply_standard\u001b[1;34m(self)\u001b[0m\n\u001b[0;32m   1501\u001b[0m \u001b[38;5;66;03m# row-wise access\u001b[39;00m\n\u001b[0;32m   1502\u001b[0m \u001b[38;5;66;03m# apply doesn't have a `na_action` keyword and for backward compat reasons\u001b[39;00m\n\u001b[0;32m   1503\u001b[0m \u001b[38;5;66;03m# we need to give `na_action=\"ignore\"` for categorical data.\u001b[39;00m\n\u001b[0;32m   1504\u001b[0m \u001b[38;5;66;03m# TODO: remove the `na_action=\"ignore\"` when that default has been changed in\u001b[39;00m\n\u001b[0;32m   1505\u001b[0m \u001b[38;5;66;03m#  Categorical (GH51645).\u001b[39;00m\n\u001b[0;32m   1506\u001b[0m action \u001b[38;5;241m=\u001b[39m \u001b[38;5;124m\"\u001b[39m\u001b[38;5;124mignore\u001b[39m\u001b[38;5;124m\"\u001b[39m \u001b[38;5;28;01mif\u001b[39;00m \u001b[38;5;28misinstance\u001b[39m(obj\u001b[38;5;241m.\u001b[39mdtype, CategoricalDtype) \u001b[38;5;28;01melse\u001b[39;00m \u001b[38;5;28;01mNone\u001b[39;00m\n\u001b[1;32m-> 1507\u001b[0m mapped \u001b[38;5;241m=\u001b[39m \u001b[43mobj\u001b[49m\u001b[38;5;241;43m.\u001b[39;49m\u001b[43m_map_values\u001b[49m\u001b[43m(\u001b[49m\n\u001b[0;32m   1508\u001b[0m \u001b[43m    \u001b[49m\u001b[43mmapper\u001b[49m\u001b[38;5;241;43m=\u001b[39;49m\u001b[43mcurried\u001b[49m\u001b[43m,\u001b[49m\u001b[43m \u001b[49m\u001b[43mna_action\u001b[49m\u001b[38;5;241;43m=\u001b[39;49m\u001b[43maction\u001b[49m\u001b[43m,\u001b[49m\u001b[43m \u001b[49m\u001b[43mconvert\u001b[49m\u001b[38;5;241;43m=\u001b[39;49m\u001b[38;5;28;43mself\u001b[39;49m\u001b[38;5;241;43m.\u001b[39;49m\u001b[43mconvert_dtype\u001b[49m\n\u001b[0;32m   1509\u001b[0m \u001b[43m\u001b[49m\u001b[43m)\u001b[49m\n\u001b[0;32m   1511\u001b[0m \u001b[38;5;28;01mif\u001b[39;00m \u001b[38;5;28mlen\u001b[39m(mapped) \u001b[38;5;129;01mand\u001b[39;00m \u001b[38;5;28misinstance\u001b[39m(mapped[\u001b[38;5;241m0\u001b[39m], ABCSeries):\n\u001b[0;32m   1512\u001b[0m     \u001b[38;5;66;03m# GH#43986 Need to do list(mapped) in order to get treated as nested\u001b[39;00m\n\u001b[0;32m   1513\u001b[0m     \u001b[38;5;66;03m#  See also GH#25959 regarding EA support\u001b[39;00m\n\u001b[0;32m   1514\u001b[0m     \u001b[38;5;28;01mreturn\u001b[39;00m obj\u001b[38;5;241m.\u001b[39m_constructor_expanddim(\u001b[38;5;28mlist\u001b[39m(mapped), index\u001b[38;5;241m=\u001b[39mobj\u001b[38;5;241m.\u001b[39mindex)\n",
      "File \u001b[1;32mc:\\Users\\ASUS\\AppData\\Local\\Programs\\Python\\Python311\\Lib\\site-packages\\pandas\\core\\base.py:921\u001b[0m, in \u001b[0;36mIndexOpsMixin._map_values\u001b[1;34m(self, mapper, na_action, convert)\u001b[0m\n\u001b[0;32m    918\u001b[0m \u001b[38;5;28;01mif\u001b[39;00m \u001b[38;5;28misinstance\u001b[39m(arr, ExtensionArray):\n\u001b[0;32m    919\u001b[0m     \u001b[38;5;28;01mreturn\u001b[39;00m arr\u001b[38;5;241m.\u001b[39mmap(mapper, na_action\u001b[38;5;241m=\u001b[39mna_action)\n\u001b[1;32m--> 921\u001b[0m \u001b[38;5;28;01mreturn\u001b[39;00m \u001b[43malgorithms\u001b[49m\u001b[38;5;241;43m.\u001b[39;49m\u001b[43mmap_array\u001b[49m\u001b[43m(\u001b[49m\u001b[43marr\u001b[49m\u001b[43m,\u001b[49m\u001b[43m \u001b[49m\u001b[43mmapper\u001b[49m\u001b[43m,\u001b[49m\u001b[43m \u001b[49m\u001b[43mna_action\u001b[49m\u001b[38;5;241;43m=\u001b[39;49m\u001b[43mna_action\u001b[49m\u001b[43m,\u001b[49m\u001b[43m \u001b[49m\u001b[43mconvert\u001b[49m\u001b[38;5;241;43m=\u001b[39;49m\u001b[43mconvert\u001b[49m\u001b[43m)\u001b[49m\n",
      "File \u001b[1;32mc:\\Users\\ASUS\\AppData\\Local\\Programs\\Python\\Python311\\Lib\\site-packages\\pandas\\core\\algorithms.py:1743\u001b[0m, in \u001b[0;36mmap_array\u001b[1;34m(arr, mapper, na_action, convert)\u001b[0m\n\u001b[0;32m   1741\u001b[0m values \u001b[38;5;241m=\u001b[39m arr\u001b[38;5;241m.\u001b[39mastype(\u001b[38;5;28mobject\u001b[39m, copy\u001b[38;5;241m=\u001b[39m\u001b[38;5;28;01mFalse\u001b[39;00m)\n\u001b[0;32m   1742\u001b[0m \u001b[38;5;28;01mif\u001b[39;00m na_action \u001b[38;5;129;01mis\u001b[39;00m \u001b[38;5;28;01mNone\u001b[39;00m:\n\u001b[1;32m-> 1743\u001b[0m     \u001b[38;5;28;01mreturn\u001b[39;00m \u001b[43mlib\u001b[49m\u001b[38;5;241;43m.\u001b[39;49m\u001b[43mmap_infer\u001b[49m\u001b[43m(\u001b[49m\u001b[43mvalues\u001b[49m\u001b[43m,\u001b[49m\u001b[43m \u001b[49m\u001b[43mmapper\u001b[49m\u001b[43m,\u001b[49m\u001b[43m \u001b[49m\u001b[43mconvert\u001b[49m\u001b[38;5;241;43m=\u001b[39;49m\u001b[43mconvert\u001b[49m\u001b[43m)\u001b[49m\n\u001b[0;32m   1744\u001b[0m \u001b[38;5;28;01melse\u001b[39;00m:\n\u001b[0;32m   1745\u001b[0m     \u001b[38;5;28;01mreturn\u001b[39;00m lib\u001b[38;5;241m.\u001b[39mmap_infer_mask(\n\u001b[0;32m   1746\u001b[0m         values, mapper, mask\u001b[38;5;241m=\u001b[39misna(values)\u001b[38;5;241m.\u001b[39mview(np\u001b[38;5;241m.\u001b[39muint8), convert\u001b[38;5;241m=\u001b[39mconvert\n\u001b[0;32m   1747\u001b[0m     )\n",
      "File \u001b[1;32mlib.pyx:2972\u001b[0m, in \u001b[0;36mpandas._libs.lib.map_infer\u001b[1;34m()\u001b[0m\n",
      "Cell \u001b[1;32mIn[52], line 3\u001b[0m, in \u001b[0;36mhashage\u001b[1;34m(texte)\u001b[0m\n\u001b[0;32m      1\u001b[0m \u001b[38;5;28;01mdef\u001b[39;00m \u001b[38;5;21mhashage\u001b[39m(texte):\n\u001b[0;32m      2\u001b[0m     md5_hash \u001b[38;5;241m=\u001b[39m hashlib\u001b[38;5;241m.\u001b[39mmd5()\n\u001b[1;32m----> 3\u001b[0m     md5_hash\u001b[38;5;241m.\u001b[39mupdate(\u001b[38;5;124;43mb\u001b[39;49m\u001b[38;5;124;43m\"\u001b[39;49m\u001b[38;5;132;43;01m{}\u001b[39;49;00m\u001b[38;5;124;43m\"\u001b[39;49m\u001b[38;5;241;43m.\u001b[39;49m\u001b[43mformat\u001b[49m(texte))\n\u001b[0;32m      4\u001b[0m     \u001b[38;5;28;01mreturn\u001b[39;00m md5_hash\u001b[38;5;241m.\u001b[39mdigest()\n",
      "\u001b[1;31mAttributeError\u001b[0m: 'bytes' object has no attribute 'format'"
     ]
    }
   ],
   "source": [
    "df[\"emp_name_hash\"] = df[\"emp_name\"].apply(hashage)"
   ]
  },
  {
   "cell_type": "code",
   "execution_count": 48,
   "metadata": {},
   "outputs": [
    {
     "data": {
      "text/html": [
       "<div>\n",
       "<style scoped>\n",
       "    .dataframe tbody tr th:only-of-type {\n",
       "        vertical-align: middle;\n",
       "    }\n",
       "\n",
       "    .dataframe tbody tr th {\n",
       "        vertical-align: top;\n",
       "    }\n",
       "\n",
       "    .dataframe thead th {\n",
       "        text-align: right;\n",
       "    }\n",
       "</style>\n",
       "<table border=\"1\" class=\"dataframe\">\n",
       "  <thead>\n",
       "    <tr style=\"text-align: right;\">\n",
       "      <th></th>\n",
       "      <th>ids</th>\n",
       "      <th>emp_name</th>\n",
       "      <th>emp_address</th>\n",
       "      <th>emp_ciy</th>\n",
       "      <th>emp_email</th>\n",
       "      <th>emp_tel</th>\n",
       "      <th>emp_status</th>\n",
       "      <th>emp_tel_chiffre</th>\n",
       "      <th>emp_name_chiffre</th>\n",
       "      <th>emp_name_pseudo</th>\n",
       "      <th>emp_birth</th>\n",
       "      <th>emp_birth_sub</th>\n",
       "      <th>emp_age</th>\n",
       "      <th>emp_age_class</th>\n",
       "      <th>emp_name_hash</th>\n",
       "    </tr>\n",
       "  </thead>\n",
       "  <tbody>\n",
       "    <tr>\n",
       "      <th>0</th>\n",
       "      <td>0</td>\n",
       "      <td>Patricia Le Poulain</td>\n",
       "      <td>141, avenue Letellier\\n53358 Prévostnec</td>\n",
       "      <td>Courtois</td>\n",
       "      <td>jolysylvie@example.org</td>\n",
       "      <td>+33 3 61 58 11 46</td>\n",
       "      <td>Active</td>\n",
       "      <td>+XX X XX XX XX XX</td>\n",
       "      <td>qXDB4UYYRjuwahY4cpl5U+j1+w==*msINB/fy+6YvgsSq9...</td>\n",
       "      <td>Claire-Renée Duval</td>\n",
       "      <td>2005-05-25</td>\n",
       "      <td>2005</td>\n",
       "      <td>22</td>\n",
       "      <td>[20, 30)</td>\n",
       "      <td>b'\\xb1\\n\\x8d\\xb1d\\xe0uA\\x05\\xb7\\xa9\\x9b\\xe7.?\\...</td>\n",
       "    </tr>\n",
       "    <tr>\n",
       "      <th>1</th>\n",
       "      <td>1</td>\n",
       "      <td>Thérèse de la Normand</td>\n",
       "      <td>70, boulevard Bernard Chrétien\\n94463 Sainte Alix</td>\n",
       "      <td>Becker-sur-Thomas</td>\n",
       "      <td>hdupuis@example.net</td>\n",
       "      <td>+33 3 84 85 04 14</td>\n",
       "      <td>Active</td>\n",
       "      <td>+XX X XX XX XX XX</td>\n",
       "      <td>um/sKZvm9Krf+u0kjO/nccL+p8Y2J3o=*76f1FHYcLrLRZ...</td>\n",
       "      <td>Georges-Franck Benoit</td>\n",
       "      <td>2010-08-30</td>\n",
       "      <td>2010</td>\n",
       "      <td>37</td>\n",
       "      <td>[30, 40)</td>\n",
       "      <td>b'\\xb1\\n\\x8d\\xb1d\\xe0uA\\x05\\xb7\\xa9\\x9b\\xe7.?\\...</td>\n",
       "    </tr>\n",
       "  </tbody>\n",
       "</table>\n",
       "</div>"
      ],
      "text/plain": [
       "   ids               emp_name  \\\n",
       "0    0    Patricia Le Poulain   \n",
       "1    1  Thérèse de la Normand   \n",
       "\n",
       "                                         emp_address            emp_ciy  \\\n",
       "0            141, avenue Letellier\\n53358 Prévostnec           Courtois   \n",
       "1  70, boulevard Bernard Chrétien\\n94463 Sainte Alix  Becker-sur-Thomas   \n",
       "\n",
       "                emp_email            emp_tel emp_status    emp_tel_chiffre  \\\n",
       "0  jolysylvie@example.org  +33 3 61 58 11 46     Active  +XX X XX XX XX XX   \n",
       "1     hdupuis@example.net  +33 3 84 85 04 14     Active  +XX X XX XX XX XX   \n",
       "\n",
       "                                    emp_name_chiffre        emp_name_pseudo  \\\n",
       "0  qXDB4UYYRjuwahY4cpl5U+j1+w==*msINB/fy+6YvgsSq9...     Claire-Renée Duval   \n",
       "1  um/sKZvm9Krf+u0kjO/nccL+p8Y2J3o=*76f1FHYcLrLRZ...  Georges-Franck Benoit   \n",
       "\n",
       "    emp_birth  emp_birth_sub  emp_age emp_age_class  \\\n",
       "0  2005-05-25           2005       22      [20, 30)   \n",
       "1  2010-08-30           2010       37      [30, 40)   \n",
       "\n",
       "                                       emp_name_hash  \n",
       "0  b'\\xb1\\n\\x8d\\xb1d\\xe0uA\\x05\\xb7\\xa9\\x9b\\xe7.?\\...  \n",
       "1  b'\\xb1\\n\\x8d\\xb1d\\xe0uA\\x05\\xb7\\xa9\\x9b\\xe7.?\\...  "
      ]
     },
     "execution_count": 48,
     "metadata": {},
     "output_type": "execute_result"
    }
   ],
   "source": [
    "df.head(2)"
   ]
  },
  {
   "cell_type": "code",
   "execution_count": null,
   "metadata": {},
   "outputs": [],
   "source": [
    "help(md5_hash.digest())"
   ]
  },
  {
   "cell_type": "markdown",
   "metadata": {},
   "source": [
    "~[@Jean 3:16]~#*!#*!"
   ]
  },
  {
   "cell_type": "markdown",
   "metadata": {},
   "source": []
  },
  {
   "cell_type": "code",
   "execution_count": 2,
   "metadata": {},
   "outputs": [],
   "source": [
    "import spacy"
   ]
  },
  {
   "cell_type": "code",
   "execution_count": 8,
   "metadata": {},
   "outputs": [
    {
     "name": "stdout",
     "output_type": "stream",
     "text": [
      "Note: you may need to restart the kernel to use updated packages.\n"
     ]
    },
    {
     "name": "stderr",
     "output_type": "stream",
     "text": [
      "ERROR: unknown command \"spacy\"\n",
      "\n"
     ]
    }
   ],
   "source": [
    "pip -m spacy download fr_core_news_sm"
   ]
  },
  {
   "cell_type": "code",
   "execution_count": 7,
   "metadata": {},
   "outputs": [
    {
     "ename": "OSError",
     "evalue": "[E050] Can't find model 'fr_core_news_sm'. It doesn't seem to be a Python package or a valid path to a data directory.",
     "output_type": "error",
     "traceback": [
      "\u001b[1;31m---------------------------------------------------------------------------\u001b[0m",
      "\u001b[1;31mOSError\u001b[0m                                   Traceback (most recent call last)",
      "Cell \u001b[1;32mIn[7], line 2\u001b[0m\n\u001b[0;32m      1\u001b[0m \u001b[38;5;66;03m# Charger le modèle français\u001b[39;00m\n\u001b[1;32m----> 2\u001b[0m nlp \u001b[38;5;241m=\u001b[39m \u001b[43mspacy\u001b[49m\u001b[38;5;241;43m.\u001b[39;49m\u001b[43mload\u001b[49m\u001b[43m(\u001b[49m\u001b[38;5;124;43m'\u001b[39;49m\u001b[38;5;124;43mfr_core_news_sm\u001b[39;49m\u001b[38;5;124;43m'\u001b[39;49m\u001b[43m)\u001b[49m\n\u001b[0;32m      4\u001b[0m \u001b[38;5;66;03m# Texte à analyser\u001b[39;00m\n\u001b[0;32m      5\u001b[0m texte \u001b[38;5;241m=\u001b[39m \u001b[38;5;124m\"\u001b[39m\u001b[38;5;124mMarie et Pierre Curie ont travaillé sur la radioactivité à Paris.\u001b[39m\u001b[38;5;124m\"\u001b[39m\n",
      "File \u001b[1;32mc:\\Users\\ASUS\\AppData\\Local\\Programs\\Python\\Python311\\Lib\\site-packages\\spacy\\__init__.py:51\u001b[0m, in \u001b[0;36mload\u001b[1;34m(name, vocab, disable, enable, exclude, config)\u001b[0m\n\u001b[0;32m     27\u001b[0m \u001b[38;5;28;01mdef\u001b[39;00m \u001b[38;5;21mload\u001b[39m(\n\u001b[0;32m     28\u001b[0m     name: Union[\u001b[38;5;28mstr\u001b[39m, Path],\n\u001b[0;32m     29\u001b[0m     \u001b[38;5;241m*\u001b[39m,\n\u001b[1;32m   (...)\u001b[0m\n\u001b[0;32m     34\u001b[0m     config: Union[Dict[\u001b[38;5;28mstr\u001b[39m, Any], Config] \u001b[38;5;241m=\u001b[39m util\u001b[38;5;241m.\u001b[39mSimpleFrozenDict(),\n\u001b[0;32m     35\u001b[0m ) \u001b[38;5;241m-\u001b[39m\u001b[38;5;241m>\u001b[39m Language:\n\u001b[0;32m     36\u001b[0m \u001b[38;5;250m    \u001b[39m\u001b[38;5;124;03m\"\"\"Load a spaCy model from an installed package or a local path.\u001b[39;00m\n\u001b[0;32m     37\u001b[0m \n\u001b[0;32m     38\u001b[0m \u001b[38;5;124;03m    name (str): Package name or model path.\u001b[39;00m\n\u001b[1;32m   (...)\u001b[0m\n\u001b[0;32m     49\u001b[0m \u001b[38;5;124;03m    RETURNS (Language): The loaded nlp object.\u001b[39;00m\n\u001b[0;32m     50\u001b[0m \u001b[38;5;124;03m    \"\"\"\u001b[39;00m\n\u001b[1;32m---> 51\u001b[0m     \u001b[38;5;28;01mreturn\u001b[39;00m \u001b[43mutil\u001b[49m\u001b[38;5;241;43m.\u001b[39;49m\u001b[43mload_model\u001b[49m\u001b[43m(\u001b[49m\n\u001b[0;32m     52\u001b[0m \u001b[43m        \u001b[49m\u001b[43mname\u001b[49m\u001b[43m,\u001b[49m\n\u001b[0;32m     53\u001b[0m \u001b[43m        \u001b[49m\u001b[43mvocab\u001b[49m\u001b[38;5;241;43m=\u001b[39;49m\u001b[43mvocab\u001b[49m\u001b[43m,\u001b[49m\n\u001b[0;32m     54\u001b[0m \u001b[43m        \u001b[49m\u001b[43mdisable\u001b[49m\u001b[38;5;241;43m=\u001b[39;49m\u001b[43mdisable\u001b[49m\u001b[43m,\u001b[49m\n\u001b[0;32m     55\u001b[0m \u001b[43m        \u001b[49m\u001b[43menable\u001b[49m\u001b[38;5;241;43m=\u001b[39;49m\u001b[43menable\u001b[49m\u001b[43m,\u001b[49m\n\u001b[0;32m     56\u001b[0m \u001b[43m        \u001b[49m\u001b[43mexclude\u001b[49m\u001b[38;5;241;43m=\u001b[39;49m\u001b[43mexclude\u001b[49m\u001b[43m,\u001b[49m\n\u001b[0;32m     57\u001b[0m \u001b[43m        \u001b[49m\u001b[43mconfig\u001b[49m\u001b[38;5;241;43m=\u001b[39;49m\u001b[43mconfig\u001b[49m\u001b[43m,\u001b[49m\n\u001b[0;32m     58\u001b[0m \u001b[43m    \u001b[49m\u001b[43m)\u001b[49m\n",
      "File \u001b[1;32mc:\\Users\\ASUS\\AppData\\Local\\Programs\\Python\\Python311\\Lib\\site-packages\\spacy\\util.py:472\u001b[0m, in \u001b[0;36mload_model\u001b[1;34m(name, vocab, disable, enable, exclude, config)\u001b[0m\n\u001b[0;32m    470\u001b[0m \u001b[38;5;28;01mif\u001b[39;00m name \u001b[38;5;129;01min\u001b[39;00m OLD_MODEL_SHORTCUTS:\n\u001b[0;32m    471\u001b[0m     \u001b[38;5;28;01mraise\u001b[39;00m \u001b[38;5;167;01mIOError\u001b[39;00m(Errors\u001b[38;5;241m.\u001b[39mE941\u001b[38;5;241m.\u001b[39mformat(name\u001b[38;5;241m=\u001b[39mname, full\u001b[38;5;241m=\u001b[39mOLD_MODEL_SHORTCUTS[name]))  \u001b[38;5;66;03m# type: ignore[index]\u001b[39;00m\n\u001b[1;32m--> 472\u001b[0m \u001b[38;5;28;01mraise\u001b[39;00m \u001b[38;5;167;01mIOError\u001b[39;00m(Errors\u001b[38;5;241m.\u001b[39mE050\u001b[38;5;241m.\u001b[39mformat(name\u001b[38;5;241m=\u001b[39mname))\n",
      "\u001b[1;31mOSError\u001b[0m: [E050] Can't find model 'fr_core_news_sm'. It doesn't seem to be a Python package or a valid path to a data directory."
     ]
    }
   ],
   "source": [
    "# Charger le modèle français\n",
    "nlp = spacy.load('fr_core_news_sm')\n",
    "\n",
    "# Texte à analyser\n",
    "texte = \"Marie et Pierre Curie ont travaillé sur la radioactivité à Paris.\"\n",
    "\n",
    "# Traiter le texte\n",
    "doc = nlp(texte)\n",
    "\n",
    "# Afficher les entités nommées\n",
    "for ent in doc.ents:\n",
    "    if ent.label_ == \"PER\":\n",
    "        print(ent.text)"
   ]
  },
  {
   "cell_type": "code",
   "execution_count": null,
   "metadata": {},
   "outputs": [],
   "source": []
  }
 ],
 "metadata": {
  "kernelspec": {
   "display_name": "Python 3",
   "language": "python",
   "name": "python3"
  },
  "language_info": {
   "codemirror_mode": {
    "name": "ipython",
    "version": 3
   },
   "file_extension": ".py",
   "mimetype": "text/x-python",
   "name": "python",
   "nbconvert_exporter": "python",
   "pygments_lexer": "ipython3",
   "version": "3.11.0"
  }
 },
 "nbformat": 4,
 "nbformat_minor": 2
}
